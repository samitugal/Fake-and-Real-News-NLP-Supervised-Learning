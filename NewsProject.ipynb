{
 "cells": [
  {
   "cell_type": "markdown",
   "id": "e12bc82b",
   "metadata": {},
   "source": [
    "# Real and Fake News Analysis"
   ]
  },
  {
   "cell_type": "markdown",
   "id": "e2faa65f",
   "metadata": {},
   "source": [
    "# Clean Data"
   ]
  },
  {
   "cell_type": "code",
   "execution_count": 1,
   "id": "fb2738e7",
   "metadata": {},
   "outputs": [],
   "source": [
    "import pandas as pd\n",
    "import numpy as np\n",
    "import re\n",
    "import nltk\n",
    "import string\n",
    "import keras\n",
    "from nltk.corpus import stopwords\n",
    "from nltk.stem import PorterStemmer\n",
    "from sklearn.model_selection import train_test_split\n",
    "from sklearn.feature_extraction.text import CountVectorizer\n",
    "from sklearn.metrics import confusion_matrix\n",
    "import matplotlib.pyplot as plt"
   ]
  },
  {
   "cell_type": "markdown",
   "id": "5924d4c9",
   "metadata": {},
   "source": [
    "We have two seperate data sets. One of them is true news set and the other one is fake news set without labels"
   ]
  },
  {
   "cell_type": "code",
   "execution_count": 2,
   "id": "0cb26732",
   "metadata": {},
   "outputs": [],
   "source": [
    "datasetTrue = pd.read_csv(\"True.csv\")\n",
    "datasetFalse = pd.read_csv(\"Fake.csv\")\n"
   ]
  },
  {
   "cell_type": "markdown",
   "id": "2a995604",
   "metadata": {},
   "source": [
    "After the labelize data sets, combined them with pd.concat"
   ]
  },
  {
   "cell_type": "code",
   "execution_count": null,
   "id": "e7d3594e",
   "metadata": {},
   "outputs": [],
   "source": [
    "datasetTrue[\"label\"] = 1\n",
    "datasetFalse[\"label\"] = 0\n",
    "dataSet = pd.concat([datasetTrue , datasetFalse] , ignore_index=True)"
   ]
  },
  {
   "cell_type": "code",
   "execution_count": null,
   "id": "00e615a4",
   "metadata": {},
   "outputs": [],
   "source": [
    "Delete irrevelant columns "
   ]
  },
  {
   "cell_type": "code",
   "execution_count": 3,
   "id": "e5cd9a54",
   "metadata": {},
   "outputs": [],
   "source": [
    "del dataSet[\"date\"]\n",
    "del dataSet[\"subject\"]\n"
   ]
  },
  {
   "cell_type": "code",
   "execution_count": 4,
   "id": "450421fc",
   "metadata": {},
   "outputs": [],
   "source": [
    "titleAndTextColumn = dataSet.iloc[:,0:2]\n",
    "labelColumn = dataSet.iloc[:,2]\n",
    "\n",
    "labelDF = pd.DataFrame(data = labelColumn)"
   ]
  },
  {
   "cell_type": "markdown",
   "id": "1c5606c2",
   "metadata": {},
   "source": [
    "Use nltk library to eliminate unnecessary words."
   ]
  },
  {
   "cell_type": "code",
   "execution_count": 5,
   "id": "af63e5ee",
   "metadata": {},
   "outputs": [
    {
     "name": "stderr",
     "output_type": "stream",
     "text": [
      "[nltk_data] Downloading package stopwords to\n",
      "[nltk_data]     C:\\Users\\samit\\AppData\\Roaming\\nltk_data...\n",
      "[nltk_data]   Package stopwords is already up-to-date!\n"
     ]
    }
   ],
   "source": [
    "nltk.download('stopwords')\n",
    "stopwords = set(stopwords.words(\"english\"))\n",
    "punctuation = list(string.punctuation)\n",
    "stopwords.update(punctuation)\n",
    "porterStemmer = PorterStemmer()"
   ]
  },
  {
   "cell_type": "markdown",
   "id": "68a6a502",
   "metadata": {},
   "source": [
    "Define a function as cleanText. It will detected punctuations, numbers and other necessary thing. Lower every letter in the words to analyze correctly."
   ]
  },
  {
   "cell_type": "code",
   "execution_count": 6,
   "id": "f5b048aa",
   "metadata": {},
   "outputs": [],
   "source": [
    "LINECOUNT = len(dataSet)\n",
    "\n",
    "def cleanText(text):\n",
    "    newText = []\n",
    "    text = text.lower()\n",
    "    text = re.sub('[^a-zA-Z]' , \" \" , text)\n",
    "    \n",
    "    for i in text.split():\n",
    "        if i.strip() not in stopwords:\n",
    "            newText.append(i.strip())\n",
    "    \n",
    "    return \" \".join(newText)\n",
    "\n",
    "array = []\n",
    "\n",
    "for i in range(0 , LINECOUNT):\n",
    "    titleText = cleanText(dataSet[\"title\"][i])\n",
    "    textText = cleanText(dataSet[\"text\"][i])\n",
    "    text = titleText + \" \" + textText\n",
    "    array.append(text)"
   ]
  },
  {
   "cell_type": "code",
   "execution_count": 7,
   "id": "cba392bd",
   "metadata": {},
   "outputs": [],
   "source": [
    "countVectorizer = CountVectorizer(max_features=5000)\n",
    "\n",
    "X = countVectorizer.fit_transform(array).toarray()\n",
    "Y = labelDF.values\n",
    "  \n",
    "x_train, x_test , y_train , y_test = train_test_split(X , Y ,test_size=0.25 , random_state=0)"
   ]
  },
  {
   "cell_type": "markdown",
   "id": "b6d7d8cf",
   "metadata": {},
   "source": [
    "# Deep Learning"
   ]
  },
  {
   "cell_type": "code",
   "execution_count": 8,
   "id": "2dc87eeb",
   "metadata": {},
   "outputs": [],
   "source": [
    "from keras.models import Sequential\n",
    "from keras.layers import Dense"
   ]
  },
  {
   "cell_type": "markdown",
   "id": "d1a00238",
   "metadata": {},
   "source": [
    "Create a machine learning model. I use relu activation for first two layers and output-layer activation method is sigmoid"
   ]
  },
  {
   "cell_type": "code",
   "execution_count": 9,
   "id": "182ae615",
   "metadata": {},
   "outputs": [],
   "source": [
    "EPOCH = 5\n",
    "\n",
    "classifier = Sequential()\n",
    "classifier.add(Dense(1500 , activation = \"relu\" , input_dim = 5000 , name = \"input-layer\"))\n",
    "classifier.add(Dense(1500 , activation = \"relu\"  , name = \"hidder-layer\" ))\n",
    "classifier.add(Dense(1 , activation = \"sigmoid\" , name = \"output-layer\"))"
   ]
  },
  {
   "cell_type": "markdown",
   "id": "6fb01c98",
   "metadata": {},
   "source": [
    "I use binary methods because the output will be true or false"
   ]
  },
  {
   "cell_type": "code",
   "execution_count": 10,
   "id": "ecf5079f",
   "metadata": {},
   "outputs": [
    {
     "name": "stdout",
     "output_type": "stream",
     "text": [
      "Epoch 1/5\n",
      "1053/1053 [==============================] - 46s 44ms/step - loss: 0.0614 - binary_accuracy: 0.9822\n",
      "Epoch 2/5\n",
      "1053/1053 [==============================] - 46s 44ms/step - loss: 0.0164 - binary_accuracy: 0.9967\n",
      "Epoch 3/5\n",
      "1053/1053 [==============================] - 46s 43ms/step - loss: 0.0064 - binary_accuracy: 0.9985\n",
      "Epoch 4/5\n",
      "1053/1053 [==============================] - 46s 43ms/step - loss: 0.0077 - binary_accuracy: 0.9980\n",
      "Epoch 5/5\n",
      "1053/1053 [==============================] - 46s 43ms/step - loss: 0.0040 - binary_accuracy: 0.9988\n"
     ]
    }
   ],
   "source": [
    "classifier.compile(optimizer = \"adam\" , loss = \"binary_crossentropy\" , metrics=['binary_accuracy'] )\n",
    "\n",
    "classifier.fit(x_train , y_train , epochs=EPOCH)\n",
    "\n",
    "predictions = classifier.predict(x_test)\n",
    "predictions = (predictions > 0.5)"
   ]
  },
  {
   "cell_type": "markdown",
   "id": "3d5e9e7e",
   "metadata": {},
   "source": [
    "Visualize to understand better."
   ]
  },
  {
   "cell_type": "code",
   "execution_count": 13,
   "id": "dfae0cee",
   "metadata": {},
   "outputs": [
    {
     "name": "stdout",
     "output_type": "stream",
     "text": [
      "[[5819   39]\n",
      " [  38 5329]]\n"
     ]
    }
   ],
   "source": [
    "confusionMatrix = confusion_matrix(y_test , predictions)\n",
    "\n",
    "truePred  = confusionMatrix[0,0] + confusionMatrix[1,1]\n",
    "falsePred = confusionMatrix[0,1] + confusionMatrix [1,0]\n",
    "\n",
    "print(confusionMatrix)"
   ]
  },
  {
   "cell_type": "code",
   "execution_count": 14,
   "id": "2e18d490",
   "metadata": {},
   "outputs": [
    {
     "data": {
      "image/png": "[encoded data removed]",
      "text/plain": [
       "<Figure size 432x288 with 1 Axes>"
      ]
     },
     "metadata": {},
     "output_type": "display_data"
    }
   ],
   "source": [
    "pieChart = np.array([truePred , falsePred])\n",
    "label = [\"True Predictions\" , \"False Predictions\"]\n",
    "explode = [0.2 , 0.0]\n",
    "\n",
    "plt.pie(pieChart , labels= label , shadow=True , explode = explode)\n",
    "plt.show()"
   ]
  }
 ],
 "metadata": {
  "kernelspec": {
   "display_name": "Python 3",
   "language": "python",
   "name": "python3"
  },
  "language_info": {
   "codemirror_mode": {
    "name": "ipython",
    "version": 3
   },
   "file_extension": ".py",
   "mimetype": "text/x-python",
   "name": "python",
   "nbconvert_exporter": "python",
   "pygments_lexer": "ipython3",
   "version": "3.8.8"
  }
 },
 "nbformat": 4,
 "nbformat_minor": 5
}
